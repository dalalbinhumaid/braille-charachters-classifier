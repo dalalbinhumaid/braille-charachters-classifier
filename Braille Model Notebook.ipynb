{
 "cells": [
  {
   "cell_type": "markdown",
   "metadata": {},
   "source": [
    "# Introduction\n",
    "## Dataset\n",
    "Retrieved from [Shanks' Braille Charachters Datase](https://www.kaggle.com/shanks0465/braille-character-dataset) which consists of 60 images for each alphabet. Thus, a total of **1560** images.\n",
    "### Dataset Description\n",
    "**Title:** \n",
    "> Braille Character Dataset\n",
    "\n",
    "**Description:** \n",
    "> This dataset was created for the purpose of training a CNN for Braille Character Recognition.\n",
    "\n",
    "**Image Description:** \n",
    "> Each image is a 28x28 image in BW Scale.\n",
    "> Each image name consists of the character alphabet and the number of the image \n",
    "> and the type of data augmentation it went through. (i.e whs - width height shift, rot - Rotation, dim - brightness)\n",
    "\n",
    "**Dataset composition:**\n",
    "> 26 characters * 3 Augmentations * 20 different images of different augmentation values (i.e different shift,rotational and brightness values.)\n",
    "## Approach\n",
    "## Refrences"
   ]
  },
  {
   "cell_type": "markdown",
   "metadata": {},
   "source": [
    "### Libraries Import"
   ]
  },
  {
   "cell_type": "code",
   "execution_count": 262,
   "metadata": {},
   "outputs": [],
   "source": [
    "import numpy as np\n",
    "import matplotlib.pyplot as plt\n",
    "import tensorflow as tf\n",
    "from tensorflow import keras\n",
    "from tensorflow.keras.preprocessing import image\n",
    "from tensorflow.keras.preprocessing.image import ImageDataGenerator\n",
    "from tensorflow.keras import layers\n",
    "from tensorflow.keras.layers import Activation, Dense, Input, SeparableConv2D, Conv2D, MaxPooling2D, GlobalMaxPooling2D, Flatten\n",
    "from tensorflow.keras.models import Model, load_model, Sequential\n",
    "from tensorflow.keras.regularizers import l2\n",
    "from tensorflow.keras.callbacks import ModelCheckpoint, ReduceLROnPlateau, EarlyStopping\n",
    "from tensorflow.keras.optimizers import Adam\n",
    "from tensorflow.keras.metrics import categorical_crossentropy\n"
   ]
  },
  {
   "cell_type": "markdown",
   "metadata": {},
   "source": [
    "### Data Preperation\n",
    "Since the data was already cleaned up and pre-processesed. The following code splits the images into two generators a training and a validation generator."
   ]
  },
  {
   "cell_type": "code",
   "execution_count": 263,
   "metadata": {},
   "outputs": [
    {
     "name": "stdout",
     "output_type": "stream",
     "text": [
      "Found 1404 images belonging to 26 classes.\n",
      "Found 156 images belonging to 26 classes.\n"
     ]
    }
   ],
   "source": [
    "data = ImageDataGenerator(rotation_range=10, shear_range=10, validation_split=0.1)\n",
    "training_images = data.flow_from_directory('./images/', target_size=(28,28), subset='training')\n",
    "validation_images = data.flow_from_directory('./images/', target_size=(28, 28), subset='validation')"
   ]
  },
  {
   "cell_type": "markdown",
   "metadata": {},
   "source": [
    "#### Plotting the image"
   ]
  },
  {
   "cell_type": "code",
   "execution_count": 264,
   "metadata": {},
   "outputs": [],
   "source": [
    "def plotImages(images):\n",
    "    fig, axes = plt.subplots(1,10, figsize=(28,28))\n",
    "    axes = axes.flatten()\n",
    "    for img, ax in zip(images, axes):\n",
    "        ax.imshow(img)\n",
    "\n",
    "    plt.tight_layout()\n",
    "    plt.show()    \n",
    "\n",
    "\n",
    "\n",
    "# plt.figure(figsize=(10, 10))\n",
    "# for images, labels in train_ds.take(1):\n",
    "#     for i in range(9):\n",
    "#         ax = plt.subplot(3, 3, i + 1)\n",
    "#         plt.imshow(images[i].numpy().astype(\"uint8\"))\n",
    "#         plt.title(int(labels[i]))\n",
    "#         plt.axis(\"off\")\n"
   ]
  },
  {
   "cell_type": "code",
   "execution_count": 265,
   "metadata": {},
   "outputs": [
    {
     "name": "stdout",
     "output_type": "stream",
     "text": [
      "Total training images: 1404\n",
      "Number of batches: 32\n",
      "Number of images in a batch: 44\n"
     ]
    }
   ],
   "source": [
    "\n",
    "image_batch, label = training_images.next()\n",
    "print(\"Total training images:\", training_images.n)\n",
    "print(\"Number of batches:\", image_batch.shape[0])\n",
    "print(\"Number of images in a batch:\", len(training_images))"
   ]
  },
  {
   "cell_type": "code",
   "execution_count": 266,
   "metadata": {},
   "outputs": [
    {
     "data": {
      "text/plain": [
       "<matplotlib.image.AxesImage at 0x186a8acf2e0>"
      ]
     },
     "execution_count": 266,
     "metadata": {},
     "output_type": "execute_result"
    },
    {
     "data": {
      "image/png": "[encoded data removed]",
      "text/plain": [
       "<Figure size 432x288 with 1 Axes>"
      ]
     },
     "metadata": {
      "needs_background": "light"
     },
     "output_type": "display_data"
    }
   ],
   "source": [
    "braille_a = image.load_img('./images/z/z1.JPG0rot.jpg')\n",
    "plt.imshow(braille_a)\n"
   ]
  },
  {
   "cell_type": "markdown",
   "metadata": {},
   "source": [
    "### Develop the model"
   ]
  },
  {
   "cell_type": "code",
   "execution_count": 267,
   "metadata": {},
   "outputs": [
    {
     "name": "stdout",
     "output_type": "stream",
     "text": [
      "(28, 28, 3)\n",
      "Model: \"sequential_50\"\n",
      "_________________________________________________________________\n",
      " Layer (type)                Output Shape              Param #   \n",
      "=================================================================\n",
      " conv2d_108 (Conv2D)         (None, 26, 26, 64)        1792      \n",
      "                                                                 \n",
      " max_pooling2d_59 (MaxPoolin  (None, 13, 13, 64)       0         \n",
      " g2D)                                                            \n",
      "                                                                 \n",
      " conv2d_109 (Conv2D)         (None, 11, 11, 64)        36928     \n",
      "                                                                 \n",
      " max_pooling2d_60 (MaxPoolin  (None, 5, 5, 64)         0         \n",
      " g2D)                                                            \n",
      "                                                                 \n",
      " conv2d_110 (Conv2D)         (None, 3, 3, 128)         73856     \n",
      "                                                                 \n",
      " global_max_pooling2d_18 (Gl  (None, 128)              0         \n",
      " obalMaxPooling2D)                                               \n",
      "                                                                 \n",
      " dense_57 (Dense)            (None, 128)               16512     \n",
      "                                                                 \n",
      " dense_58 (Dense)            (None, 26)                3354      \n",
      "                                                                 \n",
      "=================================================================\n",
      "Total params: 132,442\n",
      "Trainable params: 132,442\n",
      "Non-trainable params: 0\n",
      "_________________________________________________________________\n"
     ]
    }
   ],
   "source": [
    "print(training_images.image_shape)\n",
    "# model = Sequential([Input(shape=(28, 28, 3)),\n",
    "#                     Dense(64, activation='relu'),\n",
    "#                     Dense(26, activation='softmax')\n",
    "#                     ])\n",
    "\n",
    "# model.compile(loss='categorical_crossentropy',\n",
    "#               optimizer='adam', metrics=['accuracy'])\n",
    "\n",
    "# early_stopping = EarlyStopping(patience=20, verbose=1)\n",
    "\n",
    "\n",
    "model = Sequential()\n",
    "model.add(Input(shape=(28, 28, 3)))  #\n",
    "model.add(Conv2D(64, (3, 3), activation=\"relu\"))\n",
    "model.add(MaxPooling2D(2))\n",
    "model.add(Conv2D(64, (3, 3), activation=\"relu\"))\n",
    "model.add(MaxPooling2D(2))\n",
    "model.add(Conv2D(128, kernel_size=(3, 3), activation='relu'))\n",
    "model.add(GlobalMaxPooling2D())\n",
    "model.add(Dense(128))\n",
    "model.add(Dense(26, activation='softmax'))\n",
    "\n",
    "\n",
    "model.compile(loss='categorical_crossentropy',\n",
    "              optimizer='adam', metrics=['accuracy'])\n",
    "              \n",
    "early_stopping = EarlyStopping(patience=20, verbose=1)\n",
    "\n",
    "\n",
    "model.summary()\n"
   ]
  },
  {
   "cell_type": "code",
   "execution_count": 268,
   "metadata": {},
   "outputs": [
    {
     "name": "stdout",
     "output_type": "stream",
     "text": [
      "Epoch 1/50\n",
      "44/44 [==============================] - 3s 55ms/step - loss: 14.9164 - accuracy: 0.0427 - val_loss: 3.2590 - val_accuracy: 0.0513\n",
      "Epoch 2/50\n",
      "44/44 [==============================] - 2s 41ms/step - loss: 3.2491 - accuracy: 0.0406 - val_loss: 3.3449 - val_accuracy: 0.0513\n",
      "Epoch 3/50\n",
      "44/44 [==============================] - 2s 42ms/step - loss: 3.1760 - accuracy: 0.0719 - val_loss: 3.0956 - val_accuracy: 0.1218\n",
      "Epoch 4/50\n",
      "44/44 [==============================] - 2s 40ms/step - loss: 3.0024 - accuracy: 0.1439 - val_loss: 2.7379 - val_accuracy: 0.2436\n",
      "Epoch 5/50\n",
      "44/44 [==============================] - 2s 40ms/step - loss: 2.6135 - accuracy: 0.2821 - val_loss: 2.2852 - val_accuracy: 0.3462\n",
      "Epoch 6/50\n",
      "44/44 [==============================] - 2s 40ms/step - loss: 2.0934 - accuracy: 0.4330 - val_loss: 1.8428 - val_accuracy: 0.5000\n",
      "Epoch 7/50\n",
      "44/44 [==============================] - 2s 40ms/step - loss: 1.8330 - accuracy: 0.5242 - val_loss: 1.5084 - val_accuracy: 0.5641\n",
      "Epoch 8/50\n",
      "44/44 [==============================] - 2s 40ms/step - loss: 1.5643 - accuracy: 0.5691 - val_loss: 1.3904 - val_accuracy: 0.6538\n",
      "Epoch 9/50\n",
      "44/44 [==============================] - 2s 40ms/step - loss: 1.4896 - accuracy: 0.6019 - val_loss: 1.2989 - val_accuracy: 0.6474\n",
      "Epoch 10/50\n",
      "44/44 [==============================] - 2s 40ms/step - loss: 1.2924 - accuracy: 0.6481 - val_loss: 1.1653 - val_accuracy: 0.7115\n",
      "Epoch 11/50\n",
      "44/44 [==============================] - 2s 40ms/step - loss: 1.2218 - accuracy: 0.6553 - val_loss: 1.0413 - val_accuracy: 0.7051\n",
      "Epoch 12/50\n",
      "44/44 [==============================] - 2s 40ms/step - loss: 1.1698 - accuracy: 0.6702 - val_loss: 1.0407 - val_accuracy: 0.6859\n",
      "Epoch 13/50\n",
      "44/44 [==============================] - 2s 40ms/step - loss: 1.0628 - accuracy: 0.6987 - val_loss: 0.8366 - val_accuracy: 0.7436\n",
      "Epoch 14/50\n",
      "44/44 [==============================] - 2s 40ms/step - loss: 1.0072 - accuracy: 0.7094 - val_loss: 1.0501 - val_accuracy: 0.7115\n",
      "Epoch 15/50\n",
      "44/44 [==============================] - 2s 41ms/step - loss: 0.8785 - accuracy: 0.7443 - val_loss: 0.8313 - val_accuracy: 0.7628\n",
      "Epoch 16/50\n",
      "44/44 [==============================] - 2s 40ms/step - loss: 0.8360 - accuracy: 0.7457 - val_loss: 0.8030 - val_accuracy: 0.7756\n",
      "Epoch 17/50\n",
      "44/44 [==============================] - 2s 40ms/step - loss: 0.7707 - accuracy: 0.7699 - val_loss: 0.8927 - val_accuracy: 0.7564\n",
      "Epoch 18/50\n",
      "44/44 [==============================] - 2s 42ms/step - loss: 0.7776 - accuracy: 0.7764 - val_loss: 0.7108 - val_accuracy: 0.7821\n",
      "Epoch 19/50\n",
      "44/44 [==============================] - 2s 40ms/step - loss: 0.6793 - accuracy: 0.7906 - val_loss: 0.9386 - val_accuracy: 0.7628\n",
      "Epoch 20/50\n",
      "44/44 [==============================] - 2s 40ms/step - loss: 0.7268 - accuracy: 0.7771 - val_loss: 0.7426 - val_accuracy: 0.7756\n",
      "Epoch 21/50\n",
      "44/44 [==============================] - 2s 40ms/step - loss: 0.7827 - accuracy: 0.7628 - val_loss: 0.6526 - val_accuracy: 0.7821\n",
      "Epoch 22/50\n",
      "44/44 [==============================] - 2s 40ms/step - loss: 0.6349 - accuracy: 0.8048 - val_loss: 0.7374 - val_accuracy: 0.7372\n",
      "Epoch 23/50\n",
      "44/44 [==============================] - 2s 40ms/step - loss: 0.6148 - accuracy: 0.8170 - val_loss: 0.5046 - val_accuracy: 0.8782\n",
      "Epoch 24/50\n",
      "44/44 [==============================] - 2s 40ms/step - loss: 0.5991 - accuracy: 0.8234 - val_loss: 0.6080 - val_accuracy: 0.8205\n",
      "Epoch 25/50\n",
      "44/44 [==============================] - 2s 41ms/step - loss: 0.5336 - accuracy: 0.8319 - val_loss: 0.6429 - val_accuracy: 0.8462\n",
      "Epoch 26/50\n",
      "44/44 [==============================] - 2s 40ms/step - loss: 0.5147 - accuracy: 0.8390 - val_loss: 0.5788 - val_accuracy: 0.8269\n",
      "Epoch 27/50\n",
      "44/44 [==============================] - 2s 40ms/step - loss: 0.5299 - accuracy: 0.8312 - val_loss: 0.7473 - val_accuracy: 0.7885\n",
      "Epoch 28/50\n",
      "44/44 [==============================] - 2s 40ms/step - loss: 0.5477 - accuracy: 0.8283 - val_loss: 0.6503 - val_accuracy: 0.7885\n",
      "Epoch 29/50\n",
      "44/44 [==============================] - 2s 40ms/step - loss: 0.4691 - accuracy: 0.8575 - val_loss: 0.5761 - val_accuracy: 0.8397\n",
      "Epoch 30/50\n",
      "44/44 [==============================] - 2s 40ms/step - loss: 0.4892 - accuracy: 0.8533 - val_loss: 0.7745 - val_accuracy: 0.7756\n",
      "Epoch 31/50\n",
      "44/44 [==============================] - 2s 40ms/step - loss: 0.4442 - accuracy: 0.8711 - val_loss: 0.4980 - val_accuracy: 0.8526\n",
      "Epoch 32/50\n",
      "44/44 [==============================] - 2s 40ms/step - loss: 0.4527 - accuracy: 0.8511 - val_loss: 0.4695 - val_accuracy: 0.8654\n",
      "Epoch 33/50\n",
      "44/44 [==============================] - 2s 40ms/step - loss: 0.4381 - accuracy: 0.8590 - val_loss: 0.4495 - val_accuracy: 0.8654\n",
      "Epoch 34/50\n",
      "44/44 [==============================] - 2s 40ms/step - loss: 0.4496 - accuracy: 0.8540 - val_loss: 0.4867 - val_accuracy: 0.8654\n",
      "Epoch 35/50\n",
      "44/44 [==============================] - 2s 39ms/step - loss: 0.4207 - accuracy: 0.8761 - val_loss: 0.5432 - val_accuracy: 0.8590\n",
      "Epoch 36/50\n",
      "44/44 [==============================] - 2s 40ms/step - loss: 0.5045 - accuracy: 0.8390 - val_loss: 0.5533 - val_accuracy: 0.8397\n",
      "Epoch 37/50\n",
      "44/44 [==============================] - 2s 40ms/step - loss: 0.3800 - accuracy: 0.8811 - val_loss: 0.5693 - val_accuracy: 0.8141\n",
      "Epoch 38/50\n",
      "44/44 [==============================] - 2s 40ms/step - loss: 0.3238 - accuracy: 0.8939 - val_loss: 0.3908 - val_accuracy: 0.8782\n",
      "Epoch 39/50\n",
      "44/44 [==============================] - 2s 40ms/step - loss: 0.4868 - accuracy: 0.8490 - val_loss: 0.4792 - val_accuracy: 0.8526\n",
      "Epoch 40/50\n",
      "44/44 [==============================] - 2s 40ms/step - loss: 0.3785 - accuracy: 0.8725 - val_loss: 0.3501 - val_accuracy: 0.9038\n",
      "Epoch 41/50\n",
      "44/44 [==============================] - 2s 40ms/step - loss: 0.3954 - accuracy: 0.8818 - val_loss: 0.4245 - val_accuracy: 0.8782\n",
      "Epoch 42/50\n",
      "44/44 [==============================] - 2s 40ms/step - loss: 0.3159 - accuracy: 0.8974 - val_loss: 0.4405 - val_accuracy: 0.8718\n",
      "Epoch 43/50\n",
      "44/44 [==============================] - 2s 40ms/step - loss: 0.2754 - accuracy: 0.9117 - val_loss: 0.5117 - val_accuracy: 0.8782\n",
      "Epoch 44/50\n",
      "44/44 [==============================] - 2s 40ms/step - loss: 0.3838 - accuracy: 0.8632 - val_loss: 0.4804 - val_accuracy: 0.8910\n",
      "Epoch 45/50\n",
      "44/44 [==============================] - 2s 40ms/step - loss: 0.2898 - accuracy: 0.9131 - val_loss: 0.5257 - val_accuracy: 0.8846\n",
      "Epoch 46/50\n",
      "44/44 [==============================] - 2s 40ms/step - loss: 0.3122 - accuracy: 0.8967 - val_loss: 0.5505 - val_accuracy: 0.8846\n",
      "Epoch 47/50\n",
      "44/44 [==============================] - 2s 40ms/step - loss: 0.3072 - accuracy: 0.8989 - val_loss: 0.5630 - val_accuracy: 0.8397\n",
      "Epoch 48/50\n",
      "44/44 [==============================] - 2s 40ms/step - loss: 0.3201 - accuracy: 0.8932 - val_loss: 0.4381 - val_accuracy: 0.8718\n",
      "Epoch 49/50\n",
      "44/44 [==============================] - 2s 49ms/step - loss: 0.2745 - accuracy: 0.9095 - val_loss: 0.5584 - val_accuracy: 0.8718\n",
      "Epoch 50/50\n",
      "44/44 [==============================] - 2s 53ms/step - loss: 0.2710 - accuracy: 0.9167 - val_loss: 0.6352 - val_accuracy: 0.8397\n"
     ]
    }
   ],
   "source": [
    "trained_model = model.fit(training_images,\n",
    "                          validation_data=validation_images,\n",
    "                          epochs=50,\n",
    "                          batch_size=32,\n",
    "                          verbose=1)\n"
   ]
  },
  {
   "cell_type": "markdown",
   "metadata": {},
   "source": [
    "### Model Predection\n"
   ]
  },
  {
   "cell_type": "code",
   "execution_count": 269,
   "metadata": {},
   "outputs": [
    {
     "name": "stdout",
     "output_type": "stream",
     "text": [
      "image shape:  <PIL.Image.Image image mode=RGB size=28x28 at 0x186A8AEACA0>\n"
     ]
    },
    {
     "data": {
      "text/plain": [
       "<matplotlib.image.AxesImage at 0x186a8ca3340>"
      ]
     },
     "execution_count": 269,
     "metadata": {},
     "output_type": "execute_result"
    },
    {
     "data": {
      "image/png": "[encoded data removed]",
      "text/plain": [
       "<Figure size 432x288 with 1 Axes>"
      ]
     },
     "metadata": {
      "needs_background": "light"
     },
     "output_type": "display_data"
    }
   ],
   "source": [
    "test_image = image.load_img('./test images/p.jpg')\n",
    "print(\"image shape: \", test_image)\n",
    "plt.imshow(test_image)\n",
    "\n"
   ]
  },
  {
   "cell_type": "code",
   "execution_count": 270,
   "metadata": {},
   "outputs": [
    {
     "name": "stdout",
     "output_type": "stream",
     "text": [
      "(28, 28, 3)\n",
      "(1, 28, 28, 3)\n"
     ]
    }
   ],
   "source": [
    "test_image_array = image.img_to_array(test_image)\n",
    "print(test_image_array.shape)\n",
    "test_image_array = test_image_array[np.newaxis]\n",
    "print(test_image_array.shape)\n",
    "\n"
   ]
  },
  {
   "cell_type": "code",
   "execution_count": 279,
   "metadata": {},
   "outputs": [
    {
     "name": "stdout",
     "output_type": "stream",
     "text": [
      "Predicted [[1.51605300e-05 7.49848899e-04 2.76746071e-09 8.82091022e-09\n",
      "  1.82784616e-03 6.32068720e+07 8.82421716e-07 1.57522559e-01\n",
      "  5.22407982e-03 2.67543527e-03 1.51399479e-06 4.79037240e+07\n",
      "  1.55424869e+00 9.85443039e-05 1.31319496e-07 8.95067853e+09\n",
      "  5.42434616e+01 2.04611603e+02 1.12777025e-01 6.92705154e+00\n",
      "  4.44461921e-06 9.34230080e+08 3.87493134e-01 3.97949975e+06\n",
      "  3.11650314e+01 9.74677920e-01]]\n"
     ]
    }
   ],
   "source": [
    "label = model.predict(test_image_array)\n",
    "print(\"Predicted\", label*1e10)\n"
   ]
  }
 ],
 "metadata": {
  "interpreter": {
   "hash": "ac59ebe37160ed0dfa835113d9b8498d9f09ceb179beaac4002f036b9467c963"
  },
  "kernelspec": {
   "display_name": "Python 3.9.7 64-bit",
   "language": "python",
   "name": "python3"
  },
  "language_info": {
   "codemirror_mode": {
    "name": "ipython",
    "version": 3
   },
   "file_extension": ".py",
   "mimetype": "text/x-python",
   "name": "python",
   "nbconvert_exporter": "python",
   "pygments_lexer": "ipython3",
   "version": "3.9.7"
  },
  "orig_nbformat": 4
 },
 "nbformat": 4,
 "nbformat_minor": 2
}
