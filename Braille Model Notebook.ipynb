{
 "cells": [
  {
   "cell_type": "markdown",
   "metadata": {},
   "source": [
    "# Introduction\n",
    "## Dataset\n",
    "Retrieved from [Shanks' Braille Charachters Datase](https://www.kaggle.com/shanks0465/braille-character-dataset) which consists of 60 images for each alphabet. Thus, a total of **1560** images.\n",
    "### Dataset Description\n",
    "**Title:** \n",
    "> Braille Character Dataset\n",
    "\n",
    "**Description:** \n",
    "> This dataset was created for the purpose of training a CNN for Braille Character Recognition.\n",
    "\n",
    "**Image Description:** \n",
    "> Each image is a 28x28 image in BW Scale.\n",
    "> Each image name consists of the character alphabet and the number of the image \n",
    "> and the type of data augmentation it went through. (i.e whs - width height shift, rot - Rotation, dim - brightness)\n",
    "\n",
    "**Dataset composition:**\n",
    "> 26 characters * 3 Augmentations * 20 different images of different augmentation values (i.e different shift,rotational and brightness values.)\n",
    "## Approach\n",
    "## Refrences"
   ]
  },
  {
   "cell_type": "markdown",
   "metadata": {},
   "source": [
    "### Libraries Import"
   ]
  },
  {
   "cell_type": "code",
   "execution_count": 194,
   "metadata": {},
   "outputs": [],
   "source": [
    "import numpy as np\n",
    "import matplotlib.pyplot as plt\n",
    "import tensorflow as tf\n",
    "from tensorflow import keras\n",
    "from tensorflow.keras.preprocessing import image\n",
    "from tensorflow.keras.preprocessing.image import ImageDataGenerator\n",
    "from tensorflow.keras import layers\n",
    "from tensorflow.keras.layers import Activation, Dense, Input, SeparableConv2D, Conv2D, MaxPooling2D, GlobalMaxPooling2D, Flatten\n",
    "from tensorflow.keras.models import Model, load_model, Sequential\n",
    "from tensorflow.keras.regularizers import l2\n",
    "from tensorflow.keras.callbacks import ModelCheckpoint, ReduceLROnPlateau, EarlyStopping\n",
    "from tensorflow.keras.optimizers import Adam\n",
    "from tensorflow.keras.metrics import categorical_crossentropy\n"
   ]
  },
  {
   "cell_type": "markdown",
   "metadata": {},
   "source": [
    "### Data Preperation\n",
    "Since the data was already cleaned up and pre-processesed. The following code splits the images into two generators a training and a validation generator."
   ]
  },
  {
   "cell_type": "code",
   "execution_count": 195,
   "metadata": {},
   "outputs": [
    {
     "name": "stdout",
     "output_type": "stream",
     "text": [
      "Found 1404 images belonging to 26 classes.\n",
      "Found 156 images belonging to 26 classes.\n"
     ]
    }
   ],
   "source": [
    "data = ImageDataGenerator(rotation_range=10, shear_range=10, validation_split=0.1)\n",
    "training_images = data.flow_from_directory('./images/', target_size=(28,28), subset='training')\n",
    "validation_images = data.flow_from_directory('./images/', target_size=(28, 28), subset='validation')"
   ]
  },
  {
   "cell_type": "markdown",
   "metadata": {},
   "source": [
    "#### Plotting the image"
   ]
  },
  {
   "cell_type": "code",
   "execution_count": 196,
   "metadata": {},
   "outputs": [],
   "source": [
    "def plotImages(images):\n",
    "    fig, axes = plt.subplots(1,10, figsize=(28,28))\n",
    "    axes = axes.flatten()\n",
    "    for img, ax in zip(images, axes):\n",
    "        ax.imshow(img)\n",
    "\n",
    "    plt.tight_layout()\n",
    "    plt.show()    \n",
    "\n",
    "\n",
    "\n",
    "# plt.figure(figsize=(10, 10))\n",
    "# for images, labels in train_ds.take(1):\n",
    "#     for i in range(9):\n",
    "#         ax = plt.subplot(3, 3, i + 1)\n",
    "#         plt.imshow(images[i].numpy().astype(\"uint8\"))\n",
    "#         plt.title(int(labels[i]))\n",
    "#         plt.axis(\"off\")\n"
   ]
  },
  {
   "cell_type": "code",
   "execution_count": 197,
   "metadata": {},
   "outputs": [
    {
     "name": "stdout",
     "output_type": "stream",
     "text": [
      "Total training images: 1404\n",
      "Number of batches: 32\n",
      "Number of images in a batch: 44\n"
     ]
    }
   ],
   "source": [
    "\n",
    "image_batch, label = training_images.next()\n",
    "print(\"Total training images:\", training_images.n)\n",
    "print(\"Number of batches:\", image_batch.shape[0])\n",
    "print(\"Number of images in a batch:\", len(training_images))"
   ]
  },
  {
   "cell_type": "code",
   "execution_count": 198,
   "metadata": {},
   "outputs": [
    {
     "data": {
      "text/plain": [
       "<matplotlib.image.AxesImage at 0x186a66ba5b0>"
      ]
     },
     "execution_count": 198,
     "metadata": {},
     "output_type": "execute_result"
    },
    {
     "data": {
      "image/png": "[encoded data removed]",
      "text/plain": [
       "<Figure size 432x288 with 1 Axes>"
      ]
     },
     "metadata": {
      "needs_background": "light"
     },
     "output_type": "display_data"
    }
   ],
   "source": [
    "braille_a = image.load_img('./images/z/z1.JPG0rot.jpg')\n",
    "plt.imshow(braille_a)\n"
   ]
  },
  {
   "cell_type": "markdown",
   "metadata": {},
   "source": [
    "### Develop the model"
   ]
  },
  {
   "cell_type": "code",
   "execution_count": 199,
   "metadata": {},
   "outputs": [
    {
     "name": "stdout",
     "output_type": "stream",
     "text": [
      "(28, 28, 3)\n",
      "Model: \"sequential_34\"\n",
      "_________________________________________________________________\n",
      " Layer (type)                Output Shape              Param #   \n",
      "=================================================================\n",
      " conv2d_58 (Conv2D)          (None, 26, 26, 32)        896       \n",
      "                                                                 \n",
      " max_pooling2d_24 (MaxPoolin  (None, 13, 13, 32)       0         \n",
      " g2D)                                                            \n",
      "                                                                 \n",
      " conv2d_59 (Conv2D)          (None, 11, 11, 64)        18496     \n",
      "                                                                 \n",
      " conv2d_60 (Conv2D)          (None, 9, 9, 128)         73856     \n",
      "                                                                 \n",
      " flatten_5 (Flatten)         (None, 10368)             0         \n",
      "                                                                 \n",
      " dense_39 (Dense)            (None, 64)                663616    \n",
      "                                                                 \n",
      " dense_40 (Dense)            (None, 26)                1690      \n",
      "                                                                 \n",
      "=================================================================\n",
      "Total params: 758,554\n",
      "Trainable params: 758,554\n",
      "Non-trainable params: 0\n",
      "_________________________________________________________________\n"
     ]
    }
   ],
   "source": [
    "print(training_images.image_shape)\n",
    "# model = Sequential([Input(shape=(28, 28, 3)),\n",
    "#                     Dense(64, activation='relu'),\n",
    "#                     Dense(26, activation='softmax')\n",
    "#                     ])\n",
    "\n",
    "# model.compile(loss='categorical_crossentropy',\n",
    "#               optimizer='adam', metrics=['accuracy'])\n",
    "\n",
    "# early_stopping = EarlyStopping(patience=20, verbose=1)\n",
    "\n",
    "\n",
    "model = Sequential()\n",
    "model.add(Input(shape=(28, 28, 3)))  #\n",
    "model.add(Conv2D(32, (3, 3), activation=\"relu\"))\n",
    "model.add(MaxPooling2D(2))\n",
    "model.add(Conv2D(64, (3, 3), activation=\"relu\"))\n",
    "model.add(Conv2D(128, kernel_size=(3, 3), activation='relu'))\n",
    "model.add(Flatten())\n",
    "model.add(Dense(64))\n",
    "model.add(Dense(26, activation='softmax'))\n",
    "\n",
    "\n",
    "model.compile(loss='categorical_crossentropy',\n",
    "              optimizer='adam', metrics=['accuracy'])\n",
    "              \n",
    "early_stopping = EarlyStopping(patience=20, verbose=1)\n",
    "\n",
    "\n",
    "model.summary()\n"
   ]
  },
  {
   "cell_type": "code",
   "execution_count": 200,
   "metadata": {},
   "outputs": [
    {
     "name": "stdout",
     "output_type": "stream",
     "text": [
      "Epoch 1/150\n",
      "44/44 [==============================] - 4s 73ms/step - loss: 13.1627 - accuracy: 0.1909 - val_loss: 2.0677 - val_accuracy: 0.4936\n",
      "Epoch 2/150\n",
      "44/44 [==============================] - 2s 53ms/step - loss: 1.8869 - accuracy: 0.5107 - val_loss: 1.6597 - val_accuracy: 0.5962\n",
      "Epoch 3/150\n",
      "44/44 [==============================] - 2s 49ms/step - loss: 1.4313 - accuracy: 0.6282 - val_loss: 1.3902 - val_accuracy: 0.6603\n",
      "Epoch 4/150\n",
      "44/44 [==============================] - 2s 40ms/step - loss: 1.1543 - accuracy: 0.6937 - val_loss: 1.3825 - val_accuracy: 0.6346\n",
      "Epoch 5/150\n",
      "44/44 [==============================] - 2s 38ms/step - loss: 1.0698 - accuracy: 0.7151 - val_loss: 1.1434 - val_accuracy: 0.7244\n",
      "Epoch 6/150\n",
      "44/44 [==============================] - 2s 43ms/step - loss: 0.8493 - accuracy: 0.7664 - val_loss: 1.1163 - val_accuracy: 0.7372\n",
      "Epoch 7/150\n",
      "44/44 [==============================] - 2s 53ms/step - loss: 0.6331 - accuracy: 0.8127 - val_loss: 1.1243 - val_accuracy: 0.7372\n",
      "Epoch 8/150\n",
      "44/44 [==============================] - 2s 41ms/step - loss: 0.6217 - accuracy: 0.8219 - val_loss: 0.8889 - val_accuracy: 0.7821\n",
      "Epoch 9/150\n",
      "44/44 [==============================] - 2s 39ms/step - loss: 0.5261 - accuracy: 0.8583 - val_loss: 0.9863 - val_accuracy: 0.8269\n",
      "Epoch 10/150\n",
      "44/44 [==============================] - 2s 39ms/step - loss: 0.4616 - accuracy: 0.8746 - val_loss: 0.9943 - val_accuracy: 0.7885\n",
      "Epoch 11/150\n",
      "44/44 [==============================] - 2s 44ms/step - loss: 0.4162 - accuracy: 0.8832 - val_loss: 0.8383 - val_accuracy: 0.8205\n",
      "Epoch 12/150\n",
      "44/44 [==============================] - 2s 42ms/step - loss: 0.4062 - accuracy: 0.8953 - val_loss: 0.9154 - val_accuracy: 0.8205\n",
      "Epoch 13/150\n",
      "44/44 [==============================] - 2s 39ms/step - loss: 0.3134 - accuracy: 0.9088 - val_loss: 0.9893 - val_accuracy: 0.8333\n",
      "Epoch 14/150\n",
      "44/44 [==============================] - 2s 40ms/step - loss: 0.3351 - accuracy: 0.9017 - val_loss: 0.7327 - val_accuracy: 0.8333\n",
      "Epoch 15/150\n",
      "44/44 [==============================] - 2s 41ms/step - loss: 0.2599 - accuracy: 0.9288 - val_loss: 0.7567 - val_accuracy: 0.8654\n",
      "Epoch 16/150\n",
      "44/44 [==============================] - 2s 44ms/step - loss: 0.2369 - accuracy: 0.9359 - val_loss: 1.1828 - val_accuracy: 0.8141\n",
      "Epoch 17/150\n",
      "44/44 [==============================] - 2s 41ms/step - loss: 0.2680 - accuracy: 0.9252 - val_loss: 0.6689 - val_accuracy: 0.8718\n",
      "Epoch 18/150\n",
      "44/44 [==============================] - 2s 51ms/step - loss: 0.2009 - accuracy: 0.9558 - val_loss: 0.7425 - val_accuracy: 0.8590\n",
      "Epoch 19/150\n",
      "44/44 [==============================] - 2s 40ms/step - loss: 0.1895 - accuracy: 0.9530 - val_loss: 0.8475 - val_accuracy: 0.8526\n",
      "Epoch 20/150\n",
      "44/44 [==============================] - 2s 45ms/step - loss: 0.1675 - accuracy: 0.9509 - val_loss: 0.8253 - val_accuracy: 0.8462\n",
      "Epoch 21/150\n",
      "44/44 [==============================] - 2s 50ms/step - loss: 0.1689 - accuracy: 0.9566 - val_loss: 0.7529 - val_accuracy: 0.8782\n",
      "Epoch 22/150\n",
      "44/44 [==============================] - 3s 73ms/step - loss: 0.2258 - accuracy: 0.9316 - val_loss: 0.6292 - val_accuracy: 0.8718\n",
      "Epoch 23/150\n",
      "44/44 [==============================] - 2s 52ms/step - loss: 0.1530 - accuracy: 0.9623 - val_loss: 0.8491 - val_accuracy: 0.8654\n",
      "Epoch 24/150\n",
      "44/44 [==============================] - 2s 43ms/step - loss: 0.2076 - accuracy: 0.9501 - val_loss: 0.8630 - val_accuracy: 0.8462\n",
      "Epoch 25/150\n",
      "44/44 [==============================] - 2s 45ms/step - loss: 0.2174 - accuracy: 0.9430 - val_loss: 0.7028 - val_accuracy: 0.8718\n",
      "Epoch 26/150\n",
      "44/44 [==============================] - 2s 55ms/step - loss: 0.1655 - accuracy: 0.9558 - val_loss: 0.6494 - val_accuracy: 0.8846\n",
      "Epoch 27/150\n",
      "44/44 [==============================] - 2s 47ms/step - loss: 0.1320 - accuracy: 0.9637 - val_loss: 0.9004 - val_accuracy: 0.8782\n",
      "Epoch 28/150\n",
      "44/44 [==============================] - 2s 39ms/step - loss: 0.1386 - accuracy: 0.9601 - val_loss: 0.7580 - val_accuracy: 0.8910\n",
      "Epoch 29/150\n",
      "44/44 [==============================] - 2s 41ms/step - loss: 0.1576 - accuracy: 0.9580 - val_loss: 0.8729 - val_accuracy: 0.8590\n",
      "Epoch 30/150\n",
      "44/44 [==============================] - 2s 40ms/step - loss: 0.1364 - accuracy: 0.9644 - val_loss: 0.8597 - val_accuracy: 0.8397\n",
      "Epoch 31/150\n",
      "44/44 [==============================] - 2s 40ms/step - loss: 0.0896 - accuracy: 0.9694 - val_loss: 0.6678 - val_accuracy: 0.9038\n",
      "Epoch 32/150\n",
      "44/44 [==============================] - 2s 41ms/step - loss: 0.0914 - accuracy: 0.9729 - val_loss: 0.6508 - val_accuracy: 0.8910\n",
      "Epoch 33/150\n",
      "44/44 [==============================] - 2s 41ms/step - loss: 0.0830 - accuracy: 0.9708 - val_loss: 0.7075 - val_accuracy: 0.8846\n",
      "Epoch 34/150\n",
      "44/44 [==============================] - 2s 43ms/step - loss: 0.1852 - accuracy: 0.9566 - val_loss: 1.0558 - val_accuracy: 0.8526\n",
      "Epoch 35/150\n",
      "44/44 [==============================] - 2s 44ms/step - loss: 0.1439 - accuracy: 0.9672 - val_loss: 0.8569 - val_accuracy: 0.8462\n",
      "Epoch 36/150\n",
      "44/44 [==============================] - 2s 46ms/step - loss: 0.0828 - accuracy: 0.9758 - val_loss: 0.8697 - val_accuracy: 0.8846\n",
      "Epoch 37/150\n",
      "44/44 [==============================] - 2s 43ms/step - loss: 0.0575 - accuracy: 0.9801 - val_loss: 0.7411 - val_accuracy: 0.8782\n",
      "Epoch 38/150\n",
      "44/44 [==============================] - 2s 44ms/step - loss: 0.0816 - accuracy: 0.9786 - val_loss: 0.7953 - val_accuracy: 0.8846\n",
      "Epoch 39/150\n",
      "44/44 [==============================] - 2s 39ms/step - loss: 0.0673 - accuracy: 0.9808 - val_loss: 0.8352 - val_accuracy: 0.8718\n",
      "Epoch 40/150\n",
      "44/44 [==============================] - 2s 40ms/step - loss: 0.1094 - accuracy: 0.9715 - val_loss: 1.0745 - val_accuracy: 0.8590\n",
      "Epoch 41/150\n",
      "44/44 [==============================] - 2s 41ms/step - loss: 0.1394 - accuracy: 0.9587 - val_loss: 0.8343 - val_accuracy: 0.8782\n",
      "Epoch 42/150\n",
      "44/44 [==============================] - 2s 39ms/step - loss: 0.0377 - accuracy: 0.9843 - val_loss: 1.0324 - val_accuracy: 0.8782\n",
      "Epoch 00042: early stopping\n"
     ]
    }
   ],
   "source": [
    "trained_model = model.fit(training_images,\n",
    "                          validation_data=validation_images,\n",
    "                          epochs=150,\n",
    "                          batch_size=32,\n",
    "                          callbacks=[early_stopping],\n",
    "                          verbose=1)\n"
   ]
  }
 ],
 "metadata": {
  "interpreter": {
   "hash": "ac59ebe37160ed0dfa835113d9b8498d9f09ceb179beaac4002f036b9467c963"
  },
  "kernelspec": {
   "display_name": "Python 3.9.7 64-bit",
   "language": "python",
   "name": "python3"
  },
  "language_info": {
   "codemirror_mode": {
    "name": "ipython",
    "version": 3
   },
   "file_extension": ".py",
   "mimetype": "text/x-python",
   "name": "python",
   "nbconvert_exporter": "python",
   "pygments_lexer": "ipython3",
   "version": "3.9.7"
  },
  "orig_nbformat": 4
 },
 "nbformat": 4,
 "nbformat_minor": 2
}
