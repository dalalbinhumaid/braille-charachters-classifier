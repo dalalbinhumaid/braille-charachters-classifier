{
 "cells": [
  {
   "cell_type": "markdown",
   "metadata": {},
   "source": [
    "# Introduction\n",
    "## Dataset\n",
    "Retrieved from [Shanks' Braille Charachters Datase](https://www.kaggle.com/shanks0465/braille-character-dataset) which consists of 60 images for each alphabet. Thus, a total of **1560** images.\n",
    "### Dataset Description\n",
    "**Title:** \n",
    "> Braille Character Dataset\n",
    "\n",
    "**Description:** \n",
    "> This dataset was created for the purpose of training a CNN for Braille Character Recognition.\n",
    "\n",
    "**Image Description:** \n",
    "> Each image is a 28x28 image in BW Scale.\n",
    "> Each image name consists of the character alphabet and the number of the image \n",
    "> and the type of data augmentation it went through. (i.e whs - width height shift, rot - Rotation, dim - brightness)\n",
    "\n",
    "**Dataset composition:**\n",
    "> 26 characters * 3 Augmentations * 20 different images of different augmentation values (i.e different shift,rotational and brightness values.)\n",
    "## Approach\n",
    "## Refrences"
   ]
  },
  {
   "cell_type": "markdown",
   "metadata": {},
   "source": [
    "### Libraries Import"
   ]
  },
  {
   "cell_type": "code",
   "execution_count": 290,
   "metadata": {},
   "outputs": [],
   "source": [
    "import numpy as np\n",
    "import matplotlib.pyplot as plt\n",
    "import tensorflow as tf\n",
    "from tensorflow import keras\n",
    "from tensorflow.keras.preprocessing import image\n",
    "from tensorflow.keras.preprocessing.image import ImageDataGenerator\n",
    "from tensorflow.keras import layers\n",
    "from tensorflow.keras.layers import Activation, Dense, Input, SeparableConv2D, Conv2D, MaxPooling2D, GlobalMaxPooling2D, Flatten\n",
    "from tensorflow.keras.models import Model, load_model, Sequential\n",
    "from tensorflow.keras.regularizers import l2\n",
    "from tensorflow.keras.callbacks import ModelCheckpoint, ReduceLROnPlateau, EarlyStopping\n",
    "from tensorflow.keras.optimizers import Adam\n",
    "from tensorflow.keras.metrics import categorical_crossentropy\n"
   ]
  },
  {
   "cell_type": "markdown",
   "metadata": {},
   "source": [
    "### Data Preperation\n",
    "Since the data was already cleaned up and pre-processesed. The following code splits the images into two generators a training and a validation generator."
   ]
  },
  {
   "cell_type": "code",
   "execution_count": 291,
   "metadata": {},
   "outputs": [
    {
     "name": "stdout",
     "output_type": "stream",
     "text": [
      "Found 1404 images belonging to 26 classes.\n",
      "Found 156 images belonging to 26 classes.\n"
     ]
    }
   ],
   "source": [
    "data = ImageDataGenerator(rotation_range=10, shear_range=10, validation_split=0.1)\n",
    "training_images = data.flow_from_directory('./images/', target_size=(28,28), subset='training')\n",
    "validation_images = data.flow_from_directory('./images/', target_size=(28, 28), subset='validation')"
   ]
  },
  {
   "cell_type": "markdown",
   "metadata": {},
   "source": [
    "#### Plotting the image"
   ]
  },
  {
   "cell_type": "code",
   "execution_count": 292,
   "metadata": {},
   "outputs": [],
   "source": [
    "def plotImages(images):\n",
    "    fig, axes = plt.subplots(1,10, figsize=(28,28))\n",
    "    axes = axes.flatten()\n",
    "    for img, ax in zip(images, axes):\n",
    "        ax.imshow(img)\n",
    "\n",
    "    plt.tight_layout()\n",
    "    plt.show()    \n",
    "\n",
    "\n",
    "\n",
    "# plt.figure(figsize=(10, 10))\n",
    "# for images, labels in train_ds.take(1):\n",
    "#     for i in range(9):\n",
    "#         ax = plt.subplot(3, 3, i + 1)\n",
    "#         plt.imshow(images[i].numpy().astype(\"uint8\"))\n",
    "#         plt.title(int(labels[i]))\n",
    "#         plt.axis(\"off\")\n"
   ]
  },
  {
   "cell_type": "code",
   "execution_count": 293,
   "metadata": {},
   "outputs": [
    {
     "name": "stdout",
     "output_type": "stream",
     "text": [
      "Total training images: 1404\n",
      "Number of batches: 32\n",
      "Number of images in a batch: 44\n"
     ]
    }
   ],
   "source": [
    "\n",
    "image_batch, label = training_images.next()\n",
    "print(\"Total training images:\", training_images.n)\n",
    "print(\"Number of batches:\", image_batch.shape[0])\n",
    "print(\"Number of images in a batch:\", len(training_images))"
   ]
  },
  {
   "cell_type": "code",
   "execution_count": 294,
   "metadata": {},
   "outputs": [
    {
     "data": {
      "text/plain": [
       "<matplotlib.image.AxesImage at 0x186a91722b0>"
      ]
     },
     "execution_count": 294,
     "metadata": {},
     "output_type": "execute_result"
    },
    {
     "data": {
      "image/png": "[encoded data removed]",
      "text/plain": [
       "<Figure size 432x288 with 1 Axes>"
      ]
     },
     "metadata": {
      "needs_background": "light"
     },
     "output_type": "display_data"
    }
   ],
   "source": [
    "braille_a = image.load_img('./images/z/z1.JPG0rot.jpg')\n",
    "plt.imshow(braille_a)\n"
   ]
  },
  {
   "cell_type": "markdown",
   "metadata": {},
   "source": [
    "### Develop the model"
   ]
  },
  {
   "cell_type": "code",
   "execution_count": 295,
   "metadata": {},
   "outputs": [
    {
     "name": "stdout",
     "output_type": "stream",
     "text": [
      "(28, 28, 3)\n",
      "Model: \"sequential_51\"\n",
      "_________________________________________________________________\n",
      " Layer (type)                Output Shape              Param #   \n",
      "=================================================================\n",
      " conv2d_111 (Conv2D)         (None, 26, 26, 64)        1792      \n",
      "                                                                 \n",
      " max_pooling2d_61 (MaxPoolin  (None, 13, 13, 64)       0         \n",
      " g2D)                                                            \n",
      "                                                                 \n",
      " conv2d_112 (Conv2D)         (None, 11, 11, 64)        36928     \n",
      "                                                                 \n",
      " max_pooling2d_62 (MaxPoolin  (None, 5, 5, 64)         0         \n",
      " g2D)                                                            \n",
      "                                                                 \n",
      " conv2d_113 (Conv2D)         (None, 3, 3, 128)         73856     \n",
      "                                                                 \n",
      " global_max_pooling2d_19 (Gl  (None, 128)              0         \n",
      " obalMaxPooling2D)                                               \n",
      "                                                                 \n",
      " dense_59 (Dense)            (None, 128)               16512     \n",
      "                                                                 \n",
      " dense_60 (Dense)            (None, 26)                3354      \n",
      "                                                                 \n",
      "=================================================================\n",
      "Total params: 132,442\n",
      "Trainable params: 132,442\n",
      "Non-trainable params: 0\n",
      "_________________________________________________________________\n"
     ]
    }
   ],
   "source": [
    "print(training_images.image_shape)\n",
    "# model = Sequential([Input(shape=(28, 28, 3)),\n",
    "#                     Dense(64, activation='relu'),\n",
    "#                     Dense(26, activation='softmax')\n",
    "#                     ])\n",
    "\n",
    "# model.compile(loss='categorical_crossentropy',\n",
    "#               optimizer='adam', metrics=['accuracy'])\n",
    "\n",
    "# early_stopping = EarlyStopping(patience=20, verbose=1)\n",
    "\n",
    "\n",
    "model = Sequential()\n",
    "model.add(Input(shape=(28, 28, 3)))  #\n",
    "model.add(Conv2D(64, (3, 3), activation=\"relu\"))\n",
    "model.add(MaxPooling2D(2))\n",
    "model.add(Conv2D(64, (3, 3), activation=\"relu\"))\n",
    "model.add(MaxPooling2D(2))\n",
    "model.add(Conv2D(128, kernel_size=(3, 3), activation='relu'))\n",
    "model.add(GlobalMaxPooling2D())\n",
    "model.add(Dense(128))\n",
    "model.add(Dense(26, activation='softmax'))\n",
    "\n",
    "\n",
    "model.compile(loss='categorical_crossentropy',\n",
    "              optimizer='adam', metrics=['accuracy'])\n",
    "              \n",
    "early_stopping = EarlyStopping(patience=20, verbose=1)\n",
    "\n",
    "\n",
    "model.summary()\n"
   ]
  },
  {
   "cell_type": "code",
   "execution_count": 296,
   "metadata": {},
   "outputs": [
    {
     "name": "stdout",
     "output_type": "stream",
     "text": [
      "Epoch 1/200\n",
      "44/44 [==============================] - 3s 54ms/step - loss: 9.3669 - accuracy: 0.0406 - val_loss: 3.2520 - val_accuracy: 0.0577\n",
      "Epoch 2/200\n",
      "44/44 [==============================] - 2s 45ms/step - loss: 3.2383 - accuracy: 0.0541 - val_loss: 3.2036 - val_accuracy: 0.0385\n",
      "Epoch 3/200\n",
      "44/44 [==============================] - 2s 47ms/step - loss: 3.1602 - accuracy: 0.0513 - val_loss: 3.1153 - val_accuracy: 0.0769\n",
      "Epoch 4/200\n",
      "44/44 [==============================] - 2s 49ms/step - loss: 3.0756 - accuracy: 0.0748 - val_loss: 3.0014 - val_accuracy: 0.1026\n",
      "Epoch 5/200\n",
      "44/44 [==============================] - 2s 48ms/step - loss: 2.9289 - accuracy: 0.1296 - val_loss: 2.7637 - val_accuracy: 0.1795\n",
      "Epoch 6/200\n",
      "44/44 [==============================] - 2s 50ms/step - loss: 2.7096 - accuracy: 0.2058 - val_loss: 2.6035 - val_accuracy: 0.2436\n",
      "Epoch 7/200\n",
      "44/44 [==============================] - 2s 51ms/step - loss: 2.5506 - accuracy: 0.2628 - val_loss: 2.5390 - val_accuracy: 0.2628\n",
      "Epoch 8/200\n",
      "44/44 [==============================] - 2s 44ms/step - loss: 2.4814 - accuracy: 0.2885 - val_loss: 2.3364 - val_accuracy: 0.2821\n",
      "Epoch 9/200\n",
      "44/44 [==============================] - 2s 42ms/step - loss: 2.2246 - accuracy: 0.3476 - val_loss: 2.0237 - val_accuracy: 0.4038\n",
      "Epoch 10/200\n",
      "44/44 [==============================] - 2s 46ms/step - loss: 1.9101 - accuracy: 0.4594 - val_loss: 2.0637 - val_accuracy: 0.4808\n",
      "Epoch 11/200\n",
      "44/44 [==============================] - 2s 44ms/step - loss: 1.6688 - accuracy: 0.5406 - val_loss: 1.6058 - val_accuracy: 0.5705\n",
      "Epoch 12/200\n",
      "44/44 [==============================] - 2s 42ms/step - loss: 1.3857 - accuracy: 0.5933 - val_loss: 1.3758 - val_accuracy: 0.5769\n",
      "Epoch 13/200\n",
      "44/44 [==============================] - 2s 42ms/step - loss: 1.2967 - accuracy: 0.6603 - val_loss: 1.1568 - val_accuracy: 0.6603\n",
      "Epoch 14/200\n",
      "44/44 [==============================] - 2s 43ms/step - loss: 1.1639 - accuracy: 0.6638 - val_loss: 1.1473 - val_accuracy: 0.6410\n",
      "Epoch 15/200\n",
      "44/44 [==============================] - 2s 41ms/step - loss: 1.0409 - accuracy: 0.6973 - val_loss: 1.4850 - val_accuracy: 0.5769\n",
      "Epoch 16/200\n",
      "44/44 [==============================] - 2s 49ms/step - loss: 0.9874 - accuracy: 0.7130 - val_loss: 0.9355 - val_accuracy: 0.7179\n",
      "Epoch 17/200\n",
      "44/44 [==============================] - 2s 39ms/step - loss: 0.8919 - accuracy: 0.7422 - val_loss: 0.8936 - val_accuracy: 0.7436\n",
      "Epoch 18/200\n",
      "44/44 [==============================] - 2s 47ms/step - loss: 0.8367 - accuracy: 0.7593 - val_loss: 0.8342 - val_accuracy: 0.7436\n",
      "Epoch 19/200\n",
      "44/44 [==============================] - 2s 55ms/step - loss: 0.7406 - accuracy: 0.7707 - val_loss: 0.9037 - val_accuracy: 0.7308\n",
      "Epoch 20/200\n",
      "44/44 [==============================] - 2s 47ms/step - loss: 0.8563 - accuracy: 0.7407 - val_loss: 1.0426 - val_accuracy: 0.7308\n",
      "Epoch 21/200\n",
      "44/44 [==============================] - 2s 38ms/step - loss: 0.6938 - accuracy: 0.8027 - val_loss: 0.7200 - val_accuracy: 0.7821\n",
      "Epoch 22/200\n",
      "44/44 [==============================] - 2s 53ms/step - loss: 0.6450 - accuracy: 0.8020 - val_loss: 0.8286 - val_accuracy: 0.7436\n",
      "Epoch 23/200\n",
      "44/44 [==============================] - 2s 44ms/step - loss: 0.5688 - accuracy: 0.8291 - val_loss: 0.9994 - val_accuracy: 0.7308\n",
      "Epoch 24/200\n",
      "44/44 [==============================] - 2s 37ms/step - loss: 0.5945 - accuracy: 0.8212 - val_loss: 0.7835 - val_accuracy: 0.7628\n",
      "Epoch 25/200\n",
      "44/44 [==============================] - 2s 36ms/step - loss: 0.5408 - accuracy: 0.8312 - val_loss: 0.7675 - val_accuracy: 0.7756\n",
      "Epoch 26/200\n",
      "44/44 [==============================] - 2s 37ms/step - loss: 0.4827 - accuracy: 0.8504 - val_loss: 0.5967 - val_accuracy: 0.8269\n",
      "Epoch 27/200\n",
      "44/44 [==============================] - 2s 38ms/step - loss: 0.4982 - accuracy: 0.8462 - val_loss: 0.5228 - val_accuracy: 0.8141\n",
      "Epoch 28/200\n",
      "44/44 [==============================] - 2s 38ms/step - loss: 0.4229 - accuracy: 0.8704 - val_loss: 0.6120 - val_accuracy: 0.8077\n",
      "Epoch 29/200\n",
      "44/44 [==============================] - 2s 40ms/step - loss: 0.4080 - accuracy: 0.8704 - val_loss: 0.5908 - val_accuracy: 0.8333\n",
      "Epoch 30/200\n",
      "44/44 [==============================] - 2s 38ms/step - loss: 0.4003 - accuracy: 0.8782 - val_loss: 0.5743 - val_accuracy: 0.8397\n",
      "Epoch 31/200\n",
      "44/44 [==============================] - 2s 37ms/step - loss: 0.4360 - accuracy: 0.8604 - val_loss: 0.5669 - val_accuracy: 0.8141\n",
      "Epoch 32/200\n",
      "44/44 [==============================] - 2s 39ms/step - loss: 0.3800 - accuracy: 0.8868 - val_loss: 0.6994 - val_accuracy: 0.8269\n",
      "Epoch 33/200\n",
      "44/44 [==============================] - 2s 37ms/step - loss: 0.3753 - accuracy: 0.8789 - val_loss: 0.5678 - val_accuracy: 0.8654\n",
      "Epoch 34/200\n",
      "44/44 [==============================] - 2s 37ms/step - loss: 0.3772 - accuracy: 0.8768 - val_loss: 0.6620 - val_accuracy: 0.8205\n",
      "Epoch 35/200\n",
      "44/44 [==============================] - 2s 40ms/step - loss: 0.3239 - accuracy: 0.8974 - val_loss: 0.5743 - val_accuracy: 0.8462\n",
      "Epoch 36/200\n",
      "44/44 [==============================] - 2s 44ms/step - loss: 0.5485 - accuracy: 0.8326 - val_loss: 0.5219 - val_accuracy: 0.8269\n",
      "Epoch 37/200\n",
      "44/44 [==============================] - 2s 44ms/step - loss: 0.2905 - accuracy: 0.9060 - val_loss: 0.4228 - val_accuracy: 0.8590\n",
      "Epoch 38/200\n",
      "44/44 [==============================] - 2s 41ms/step - loss: 0.2772 - accuracy: 0.9081 - val_loss: 0.6409 - val_accuracy: 0.8590\n",
      "Epoch 39/200\n",
      "44/44 [==============================] - 2s 45ms/step - loss: 0.2573 - accuracy: 0.9145 - val_loss: 0.5351 - val_accuracy: 0.8397\n",
      "Epoch 40/200\n",
      "44/44 [==============================] - 2s 44ms/step - loss: 0.2241 - accuracy: 0.9202 - val_loss: 0.4979 - val_accuracy: 0.8077\n",
      "Epoch 41/200\n",
      "44/44 [==============================] - 2s 47ms/step - loss: 0.2864 - accuracy: 0.9124 - val_loss: 0.5543 - val_accuracy: 0.8654\n",
      "Epoch 42/200\n",
      "44/44 [==============================] - 2s 43ms/step - loss: 0.3587 - accuracy: 0.8889 - val_loss: 0.5289 - val_accuracy: 0.8462\n",
      "Epoch 43/200\n",
      "44/44 [==============================] - 2s 42ms/step - loss: 0.3274 - accuracy: 0.9053 - val_loss: 0.4432 - val_accuracy: 0.8782\n",
      "Epoch 44/200\n",
      "44/44 [==============================] - 2s 41ms/step - loss: 0.3244 - accuracy: 0.8989 - val_loss: 0.4244 - val_accuracy: 0.8654\n",
      "Epoch 45/200\n",
      "44/44 [==============================] - 2s 48ms/step - loss: 0.2656 - accuracy: 0.9181 - val_loss: 0.5241 - val_accuracy: 0.8526\n",
      "Epoch 46/200\n",
      "44/44 [==============================] - 2s 44ms/step - loss: 0.2204 - accuracy: 0.9338 - val_loss: 0.3804 - val_accuracy: 0.8910\n",
      "Epoch 47/200\n",
      "44/44 [==============================] - 2s 41ms/step - loss: 0.2750 - accuracy: 0.9188 - val_loss: 0.5304 - val_accuracy: 0.8782\n",
      "Epoch 48/200\n",
      "44/44 [==============================] - 2s 42ms/step - loss: 0.2527 - accuracy: 0.9081 - val_loss: 0.5194 - val_accuracy: 0.8526\n",
      "Epoch 49/200\n",
      "44/44 [==============================] - 2s 41ms/step - loss: 0.2250 - accuracy: 0.9402 - val_loss: 0.4794 - val_accuracy: 0.8590\n",
      "Epoch 50/200\n",
      "44/44 [==============================] - 2s 42ms/step - loss: 0.2612 - accuracy: 0.9224 - val_loss: 0.4088 - val_accuracy: 0.9103\n",
      "Epoch 51/200\n",
      "44/44 [==============================] - 2s 41ms/step - loss: 0.2309 - accuracy: 0.9259 - val_loss: 0.3535 - val_accuracy: 0.8910\n",
      "Epoch 52/200\n",
      "44/44 [==============================] - 2s 41ms/step - loss: 0.2335 - accuracy: 0.9231 - val_loss: 0.3774 - val_accuracy: 0.8718\n",
      "Epoch 53/200\n",
      "44/44 [==============================] - 2s 41ms/step - loss: 0.2246 - accuracy: 0.9295 - val_loss: 0.5727 - val_accuracy: 0.8974\n",
      "Epoch 54/200\n",
      "44/44 [==============================] - 2s 41ms/step - loss: 0.1946 - accuracy: 0.9387 - val_loss: 0.3930 - val_accuracy: 0.9103\n",
      "Epoch 55/200\n",
      "44/44 [==============================] - 2s 42ms/step - loss: 0.2644 - accuracy: 0.9231 - val_loss: 0.2422 - val_accuracy: 0.9231\n",
      "Epoch 56/200\n",
      "44/44 [==============================] - 2s 41ms/step - loss: 0.2261 - accuracy: 0.9309 - val_loss: 0.4732 - val_accuracy: 0.8846\n",
      "Epoch 57/200\n",
      "44/44 [==============================] - 2s 41ms/step - loss: 0.2240 - accuracy: 0.9302 - val_loss: 0.5855 - val_accuracy: 0.8590\n",
      "Epoch 58/200\n",
      "44/44 [==============================] - 2s 44ms/step - loss: 0.2578 - accuracy: 0.9145 - val_loss: 0.5115 - val_accuracy: 0.8782\n",
      "Epoch 59/200\n",
      "44/44 [==============================] - 2s 41ms/step - loss: 0.2583 - accuracy: 0.9302 - val_loss: 0.5874 - val_accuracy: 0.8654\n",
      "Epoch 60/200\n",
      "44/44 [==============================] - 2s 41ms/step - loss: 0.2593 - accuracy: 0.9160 - val_loss: 0.6021 - val_accuracy: 0.8590\n",
      "Epoch 61/200\n",
      "44/44 [==============================] - 2s 41ms/step - loss: 0.1814 - accuracy: 0.9402 - val_loss: 0.4308 - val_accuracy: 0.8974\n",
      "Epoch 62/200\n",
      "44/44 [==============================] - 2s 42ms/step - loss: 0.1737 - accuracy: 0.9430 - val_loss: 0.4155 - val_accuracy: 0.8654\n",
      "Epoch 63/200\n",
      "44/44 [==============================] - 2s 41ms/step - loss: 0.1735 - accuracy: 0.9437 - val_loss: 0.3694 - val_accuracy: 0.8782\n",
      "Epoch 64/200\n",
      "44/44 [==============================] - 2s 42ms/step - loss: 0.1822 - accuracy: 0.9338 - val_loss: 0.4667 - val_accuracy: 0.8782\n",
      "Epoch 65/200\n",
      "44/44 [==============================] - 2s 42ms/step - loss: 0.1788 - accuracy: 0.9509 - val_loss: 0.3821 - val_accuracy: 0.9103\n",
      "Epoch 66/200\n",
      "44/44 [==============================] - 2s 42ms/step - loss: 0.1700 - accuracy: 0.9530 - val_loss: 0.4913 - val_accuracy: 0.8718\n",
      "Epoch 67/200\n",
      "44/44 [==============================] - 2s 41ms/step - loss: 0.3030 - accuracy: 0.9110 - val_loss: 0.7526 - val_accuracy: 0.8141\n",
      "Epoch 68/200\n",
      "44/44 [==============================] - 2s 41ms/step - loss: 0.3320 - accuracy: 0.8932 - val_loss: 0.6754 - val_accuracy: 0.8269\n",
      "Epoch 69/200\n",
      "44/44 [==============================] - 2s 41ms/step - loss: 0.2204 - accuracy: 0.9316 - val_loss: 0.6241 - val_accuracy: 0.8526\n",
      "Epoch 70/200\n",
      "44/44 [==============================] - 2s 41ms/step - loss: 0.2582 - accuracy: 0.9181 - val_loss: 0.5891 - val_accuracy: 0.8333\n",
      "Epoch 71/200\n",
      "44/44 [==============================] - 2s 42ms/step - loss: 0.1978 - accuracy: 0.9395 - val_loss: 0.3529 - val_accuracy: 0.9038\n",
      "Epoch 72/200\n",
      "44/44 [==============================] - 2s 42ms/step - loss: 0.1761 - accuracy: 0.9480 - val_loss: 0.7964 - val_accuracy: 0.8462\n",
      "Epoch 73/200\n",
      "44/44 [==============================] - 2s 41ms/step - loss: 0.1807 - accuracy: 0.9452 - val_loss: 0.5500 - val_accuracy: 0.8846\n",
      "Epoch 74/200\n",
      "44/44 [==============================] - 2s 41ms/step - loss: 0.1913 - accuracy: 0.9423 - val_loss: 0.3450 - val_accuracy: 0.8910\n",
      "Epoch 75/200\n",
      "44/44 [==============================] - 2s 41ms/step - loss: 0.1272 - accuracy: 0.9608 - val_loss: 0.3122 - val_accuracy: 0.9103\n",
      "Epoch 00075: early stopping\n"
     ]
    }
   ],
   "source": [
    "trained_model = model.fit(training_images,\n",
    "                          validation_data=validation_images,\n",
    "                          epochs=200,\n",
    "                          callbacks=[early_stopping],\n",
    "                          batch_size=32,\n",
    "                          verbose=1)\n"
   ]
  },
  {
   "cell_type": "code",
   "execution_count": 308,
   "metadata": {},
   "outputs": [
    {
     "data": {
      "image/png": "[encoded data removed]",
      "text/plain": [
       "<Figure size 432x288 with 1 Axes>"
      ]
     },
     "metadata": {
      "needs_background": "light"
     },
     "output_type": "display_data"
    },
    {
     "data": {
      "image/png": "[encoded data removed]",
      "text/plain": [
       "<Figure size 432x288 with 1 Axes>"
      ]
     },
     "metadata": {
      "needs_background": "light"
     },
     "output_type": "display_data"
    },
    {
     "name": "stdout",
     "output_type": "stream",
     "text": [
      "Model accuracy:  91.0 %\n"
     ]
    }
   ],
   "source": [
    "# summarize history for accuracy\n",
    "plt.plot(trained_model.history['accuracy'])\n",
    "plt.plot(trained_model.history['val_accuracy'])\n",
    "plt.title('model accuracy')\n",
    "plt.ylabel('accuracy')\n",
    "plt.xlabel('epoch')\n",
    "plt.legend(['train', 'test'], loc='upper left')\n",
    "plt.show()\n",
    "# summarize history for loss\n",
    "plt.plot(trained_model.history['loss'])\n",
    "plt.plot(trained_model.history['val_loss'])\n",
    "plt.title('model loss')\n",
    "plt.ylabel('loss')\n",
    "plt.xlabel('epoch')\n",
    "plt.legend(['train', 'test'], loc='upper left')\n",
    "plt.show()\n",
    "\n",
    "print(\"Model accuracy: \",round(trained_model.history['val_accuracy'][-1], 2)*100,\"%\")\n"
   ]
  },
  {
   "cell_type": "markdown",
   "metadata": {},
   "source": [
    "### Model Predection\n"
   ]
  },
  {
   "cell_type": "code",
   "execution_count": 320,
   "metadata": {},
   "outputs": [
    {
     "name": "stdout",
     "output_type": "stream",
     "text": [
      "image shape:  <PIL.JpegImagePlugin.JpegImageFile image mode=RGB size=28x28 at 0x186A8F576D0>\n"
     ]
    },
    {
     "data": {
      "text/plain": [
       "<matplotlib.image.AxesImage at 0x186a9910940>"
      ]
     },
     "execution_count": 320,
     "metadata": {},
     "output_type": "execute_result"
    },
    {
     "data": {
      "image/png": "[encoded data removed]",
      "text/plain": [
       "<Figure size 432x288 with 1 Axes>"
      ]
     },
     "metadata": {
      "needs_background": "light"
     },
     "output_type": "display_data"
    }
   ],
   "source": [
    "test_image = image.load_img('./test images/f.jpg')\n",
    "print(\"image shape: \", test_image)\n",
    "plt.imshow(test_image)\n",
    "\n"
   ]
  },
  {
   "cell_type": "code",
   "execution_count": 321,
   "metadata": {},
   "outputs": [
    {
     "name": "stdout",
     "output_type": "stream",
     "text": [
      "(28, 28, 3)\n",
      "(1, 28, 28, 3)\n"
     ]
    }
   ],
   "source": [
    "test_image_array = image.img_to_array(test_image)\n",
    "print(test_image_array.shape)\n",
    "test_image_array = test_image_array[np.newaxis]\n",
    "print(test_image_array.shape)\n",
    "\n"
   ]
  },
  {
   "cell_type": "code",
   "execution_count": 322,
   "metadata": {},
   "outputs": [
    {
     "name": "stdout",
     "output_type": "stream",
     "text": [
      "Predicted [6]\n"
     ]
    }
   ],
   "source": [
    "label = model.predict(test_image_array)\n",
    "print(\"Predicted\", label.argmax(-1))\n"
   ]
  }
 ],
 "metadata": {
  "interpreter": {
   "hash": "ac59ebe37160ed0dfa835113d9b8498d9f09ceb179beaac4002f036b9467c963"
  },
  "kernelspec": {
   "display_name": "Python 3.9.7 64-bit",
   "language": "python",
   "name": "python3"
  },
  "language_info": {
   "codemirror_mode": {
    "name": "ipython",
    "version": 3
   },
   "file_extension": ".py",
   "mimetype": "text/x-python",
   "name": "python",
   "nbconvert_exporter": "python",
   "pygments_lexer": "ipython3",
   "version": "3.9.7"
  },
  "orig_nbformat": 4
 },
 "nbformat": 4,
 "nbformat_minor": 2
}
